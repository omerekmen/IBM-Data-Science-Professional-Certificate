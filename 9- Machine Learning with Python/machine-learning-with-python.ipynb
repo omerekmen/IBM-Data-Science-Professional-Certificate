{
 "cells": [
  {
   "cell_type": "markdown",
   "metadata": {},
   "source": [
    "# INTRODUCTION TO MACHINE LEARNING "
   ]
  },
  {
   "cell_type": "markdown",
   "metadata": {},
   "source": [
    "The course covers a wide range of topics, including supervised learning, unsupervised learning, classification, regression, and clustering. You can also learn about the different machine learning algorithms and how to apply them in Python.\n",
    "\n",
    "### Learning Topics:\n",
    "- Linear regression: Predict CO2 emissions in automobiles\n",
    "- Regression trees: Predict house prices with real estate data\n",
    "- Logistic regression: Predict customer loyalty using telecom data\n",
    "- K-nearest neighbors: Classify telecom customers\n",
    "- Support vector machines: Classify benign/malignant cell samples\n",
    "- Multiclass prediction: Classify iris flowers\n",
    "- Decision trees: Prescribe drugs based on patient data\n",
    "- K-means: Segment customer data based on characteristics\n",
    "\n",
    "\n"
   ]
  },
  {
   "cell_type": "markdown",
   "metadata": {},
   "source": [
    "# REGRESSION"
   ]
  },
  {
   "cell_type": "markdown",
   "metadata": {},
   "source": []
  },
  {
   "cell_type": "markdown",
   "metadata": {},
   "source": [
    "# CLASSIFICATION"
   ]
  },
  {
   "cell_type": "markdown",
   "metadata": {},
   "source": []
  },
  {
   "cell_type": "markdown",
   "metadata": {},
   "source": [
    "# LINEAR CLASSIFICATION"
   ]
  },
  {
   "cell_type": "markdown",
   "metadata": {},
   "source": []
  },
  {
   "cell_type": "markdown",
   "metadata": {},
   "source": [
    "# CLUSTERING"
   ]
  },
  {
   "cell_type": "markdown",
   "metadata": {},
   "source": []
  },
  {
   "cell_type": "markdown",
   "metadata": {},
   "source": [
    "# FINAL EXAM and PROJECT"
   ]
  },
  {
   "cell_type": "markdown",
   "metadata": {},
   "source": []
  }
 ],
 "metadata": {
  "language_info": {
   "name": "python"
  },
  "orig_nbformat": 4
 },
 "nbformat": 4,
 "nbformat_minor": 2
}
